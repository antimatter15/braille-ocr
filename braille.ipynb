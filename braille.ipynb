{
 "metadata": {
  "name": "",
  "signature": "sha256:ed4609dba2438630fca5eb8e89e1d9257b6dfd78969e32c03059b1bf8beb4751"
 },
 "nbformat": 3,
 "nbformat_minor": 0,
 "worksheets": [
  {
   "cells": [
    {
     "cell_type": "code",
     "collapsed": false,
     "input": [
      "%matplotlib inline\n",
      "\n",
      "from skimage import data, io, filter, color, util\n",
      "\n",
      "image = data.imread('/Users/kwok/Desktop/photo.jpeg')\n",
      "# image = data.lena()\n",
      "#edges = filter.sobel(image)\n",
      "#io.imshow(image)\n",
      "image.imshow()\n"
     ],
     "language": "python",
     "metadata": {},
     "outputs": [
      {
       "ename": "AttributeError",
       "evalue": "'numpy.ndarray' object has no attribute 'imshow'",
       "output_type": "pyerr",
       "traceback": [
        "\u001b[0;31m---------------------------------------------------------------------------\u001b[0m\n\u001b[0;31mAttributeError\u001b[0m                            Traceback (most recent call last)",
        "\u001b[0;32m<ipython-input-46-a204e2770eaa>\u001b[0m in \u001b[0;36m<module>\u001b[0;34m()\u001b[0m\n\u001b[1;32m      7\u001b[0m \u001b[0;31m#edges = filter.sobel(image)\u001b[0m\u001b[0;34m\u001b[0m\u001b[0;34m\u001b[0m\u001b[0m\n\u001b[1;32m      8\u001b[0m \u001b[0;31m#io.imshow(image)\u001b[0m\u001b[0;34m\u001b[0m\u001b[0;34m\u001b[0m\u001b[0m\n\u001b[0;32m----> 9\u001b[0;31m \u001b[0mimage\u001b[0m\u001b[0;34m.\u001b[0m\u001b[0mimshow\u001b[0m\u001b[0;34m(\u001b[0m\u001b[0;34m)\u001b[0m\u001b[0;34m\u001b[0m\u001b[0m\n\u001b[0m",
        "\u001b[0;31mAttributeError\u001b[0m: 'numpy.ndarray' object has no attribute 'imshow'"
       ]
      }
     ],
     "prompt_number": 46
    },
    {
     "cell_type": "code",
     "collapsed": false,
     "input": [
      "from scipy import misc\n",
      "import numpy as np\n",
      "import math\n",
      "from skimage.filter import threshold_adaptive\n",
      "brah = color.rgb2gray(np.asarray(data.imread('photo.png')))\n",
      "\n",
      "phantom = util.img_as_ubyte(brah)\n",
      "#threshed = threshold_adaptive(phantom, 50)\n",
      "threshed = phantom > filter.threshold_otsu(phantom)\n",
      "import skimage.morphology as morp\n",
      "selem = morp.disk(20)\n",
      "#bt = morp.white_tophat(threshed, selem)\n",
      "#plt.imshow(bt, cmap=plt.cm.gray)\n",
      "#print plt.imshow(brah)\n",
      "\n",
      "from skimage import measure\n",
      "labels = measure.label(threshed)\n",
      "\n",
      "#print plt.hist([x['Area'] for x in measure.regionprops(labels, ['Area']) if 1000 > x['Area'] > 10])\n",
      "valid = [x['Label'] for x in measure.regionprops(labels)]\n",
      "\n",
      "fig, ax = plt.subplots(1, 1)\n",
      "\n",
      "ax.imshow(labels)\n",
      "\n",
      "for region in measure.regionprops(labels):\n",
      "    (y, x) = region.centroid\n",
      "    r = region.equivalent_diameter / 2.0\n",
      "    area = math.pi * (r**2)\n",
      "    \n",
      "    if region.extent > 0.5 and 3 < r < 20:\n",
      "        ax.add_patch(plt.Circle((x,y), r, linewidth=1, fill=False, color='yellow'))\n",
      "    else:\n",
      "        labels[region.coords] = 0\n",
      "        \n",
      "    #print region['Label'], region['Perimeter'] / region['Area']\n",
      "\n",
      "#plt.imshow(labels)\n",
      "\n",
      "plt.show()\n"
     ],
     "language": "python",
     "metadata": {},
     "outputs": [
      {
       "output_type": "stream",
       "stream": "stderr",
       "text": [
        "/Library/Python/2.7/site-packages/skimage/measure/_regionprops.py:214: RuntimeWarning: invalid value encountered in double_scalars\n",
        "  row = m[0, 1] / m[0, 0]\n",
        "/Library/Python/2.7/site-packages/skimage/measure/_regionprops.py:215: RuntimeWarning: invalid value encountered in double_scalars\n",
        "  col = m[1, 0] / m[0, 0]\n"
       ]
      },
      {
       "metadata": {},
       "output_type": "display_data",
       "png": "[encoded data removed]",
       "text": [
        "<matplotlib.figure.Figure at 0x13369b3d0>"
       ]
      }
     ],
     "prompt_number": 159
    },
    {
     "cell_type": "code",
     "collapsed": false,
     "input": [
      "%matplotlib inline\n",
      "\n",
      "import matplotlib.pyplot as plt\n",
      "\n",
      "from scipy import misc\n",
      "from scipy import ndimage\n",
      "img = misc.imread(\"photo.png\", True)\n",
      "mask = img > 100\n",
      "label_im, nb_labels = ndimage.label(mask)\n",
      "sizes = ndimage.sum(mask, label_im, range(nb_labels + 1))\n",
      "#mean_vals = ndimage.sum(mask, label_im, range(1, nb_labels + 1))\n",
      "#mask_size = sizes > 100\n",
      "mask_size = sizes > 1000\n",
      "remove_pixel = mask_size[label_im]\n",
      "label_im[remove_pixel] = 0\n",
      "mask_size = sizes < 50\n",
      "remove_pixel = mask_size[label_im]\n",
      "label_im[remove_pixel] = 0\n",
      "#plt.imshow(label_im)\n",
      "\n",
      "from skimage import measure\n",
      "labels = measure.label(label_im)\n",
      "regions = measure.regionprops(labels)\n",
      "\n",
      "y_coords = [region.centroid[0] for region in regions]\n",
      "ll = min(y_coords)\n",
      "ul = max(y_coords)\n",
      "\n",
      "lastx = 0\n",
      "buf = []\n",
      "clust = []\n",
      "for region in sorted(regions, key=lambda x: x.centroid[1]):\n",
      "    if region.centroid[1] - lastx > 10:\n",
      "        if len(buf) > 0:\n",
      "           clust.append(buf)\n",
      "        lastx = region.centroid[1]\n",
      "        buf = []    \n",
      "    buf.append((region.centroid[0]-ll)/(ul-ll))\n",
      "clust.append(buf)\n",
      "\n",
      "def binmap(frac):\n",
      "    if frac < 0.25:\n",
      "        return 0b100\n",
      "    elif frac < 1 - 0.25:\n",
      "        return 0b010\n",
      "    else:\n",
      "        return 0b001\n",
      "    \n",
      "def chunk(input, size):\n",
      "    return map(None, *([iter(input)] * size))\n",
      "\n",
      "letters = chunk((reduce((lambda a, b: a | b), (binmap(x) for x in blah)) for blah in clust), 2)\n",
      "\n",
      "mapping = {\n",
      "    (0b100, 0b000): 'a',\n",
      "    (0b110, 0b000): 'b',\n",
      "    (0b100, 0b100): 'c',\n",
      "    (0b100, 0b110): 'd',\n",
      "    (0b100, 0b010): 'e',\n",
      "    (0b110, 0b100): 'f',\n",
      "    (0b110, 0b110): 'g',\n",
      "    (0b110, 0b010): 'h',\n",
      "    (0b010, 0b100): 'i',\n",
      "    (0b010, 0b110): 'j',\n",
      "    (0b101, 0b000): 'k',\n",
      "    (0b111, 0b000): 'l',\n",
      "    (0b101, 0b100): 'm',\n",
      "    (0b101, 0b110): 'n',\n",
      "    (0b101, 0b010): 'o',\n",
      "    (0b111, 0b100): 'p',\n",
      "    (0b111, 0b110): 'q',\n",
      "    (0b111, 0b010): 'r',\n",
      "    (0b011, 0b100): 's',\n",
      "    (0b011, 0b110): 't',\n",
      "    (0b101, 0b001): 'u',\n",
      "    (0b111, 0b001): 'v',\n",
      "    (0b101, 0b101): 'x',\n",
      "    (0b101, 0b111): 'y',\n",
      "    (0b101, 0b011): 'z'\n",
      "}\n",
      "\n",
      "for letter in letters:\n",
      "    if letter in mapping:\n",
      "        print mapping[letter],\n",
      "    else:\n",
      "        print \"?\","
     ],
     "language": "python",
     "metadata": {},
     "outputs": [
      {
       "output_type": "stream",
       "stream": "stdout",
       "text": [
        "e x i t\n"
       ]
      }
     ],
     "prompt_number": 35
    },
    {
     "cell_type": "code",
     "collapsed": false,
     "input": [],
     "language": "python",
     "metadata": {},
     "outputs": []
    }
   ],
   "metadata": {}
  }
 ]
}